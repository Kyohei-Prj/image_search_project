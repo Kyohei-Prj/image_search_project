{
 "cells": [
  {
   "cell_type": "code",
   "execution_count": null,
   "id": "bfd14f0d-7779-4a80-b1d3-676597e2428d",
   "metadata": {
    "collapsed": false
   },
   "outputs": [],
   "source": [
    "from selenium.webdriver.support.ui import WebDriverWait\n",
    "from selenium.webdriver.support import expected_conditions as EC\n",
    "from selenium.common.exceptions import TimeoutException\n",
    "from selenium.webdriver.chrome import service as fs\n",
    "from selenium.webdriver.chrome.options import Options\n",
    "from selenium.webdriver.common.by import By\n",
    "from selenium import webdriver\n",
    "from bs4 import BeautifulSoup\n",
    "\n",
    "import requests\n",
    "\n",
    "from collections import Counter\n",
    "import os\n",
    "import time\n",
    "import re"
   ]
  },
  {
   "cell_type": "code",
   "execution_count": null,
   "id": "b6f0d3d5-5e1c-401b-bb64-07f137c37f87",
   "metadata": {
    "collapsed": false
   },
   "outputs": [],
   "source": [
    "# open chrome\n",
    "chrome_driver = '../driver/chromedriver'\n",
    "chrome_service = fs.Service(chrome_driver)\n",
    "driver = webdriver.Chrome(service=chrome_service)"
   ]
  },
  {
   "cell_type": "code",
   "execution_count": null,
   "id": "00ee2ab4-5282-43f8-bb4e-1226e604d26c",
   "metadata": {
    "collapsed": true
   },
   "outputs": [],
   "source": [
    "image_file = 'sample_item.jpg'\n",
    "keywords = search_keywords_by_image(image_file)\n",
    "driver.quit()"
   ]
  },
  {
   "cell_type": "code",
   "execution_count": null,
   "id": "f7b59c43-e372-4ca7-b51f-832f0599092a",
   "metadata": {
    "collapsed": false
   },
   "outputs": [],
   "source": [
    "def search_keywords_by_image(image_file):\n",
    "\n",
    "    # execute image search\n",
    "    driver.get('https://images.google.com/')\n",
    "    cam_button = driver.find_elements(By.CLASS_NAME, 'nDcEnd')\n",
    "    cam_button[0].click()\n",
    "\n",
    "    delay = 5 # seconds\n",
    "    element = (By.CLASS_NAME, 'DV7the')\n",
    "    wait_until_page_is_loaded(delay, element)\n",
    "\n",
    "    upload_btn = driver.find_element(By.NAME, 'encoded_image')\n",
    "    upload_btn.send_keys(os.getcwd() + '/' + image_file)\n",
    "\n",
    "    element = (By.CLASS_NAME, 'TfLgNb')\n",
    "    wait_until_page_is_loaded(delay, element)\n",
    "\n",
    "    # obtain search result url\n",
    "    url = driver.current_url\n",
    "\n",
    "    keywords = extract_keywords(url)\n",
    "\n",
    "    return keywords\n",
    "\n",
    "def wait_until_page_is_loaded(delay, element):\n",
    "\n",
    "    try:\n",
    "        WebDriverWait(driver, delay).until(EC.presence_of_element_located(element))\n",
    "        print(\"Page is ready!\")\n",
    "    except TimeoutException:\n",
    "        print(\"Loading took too much time!\")\n",
    "\n",
    "def extract_keywords(url):\n",
    "\n",
    "    # extract text data\n",
    "    html = requests.get(url)\n",
    "    soup = BeautifulSoup(html.text, features='lxml')\n",
    "    scripts = soup.select('script')\n",
    "    matched_images_data = ''.join(re.findall(r\"AF_initDataCallback\\(([^<]+)\\);\", str(scripts)))\n",
    "    extracted_text = re.findall('\"([^\"]*)\"', matched_images_data)\n",
    "\n",
    "    # extract keywords\n",
    "    texts = ' '.join(extracted_text).split(' ')\n",
    "    texts = [text for text in texts if len(text) > 1]\n",
    "    texts = Counter(texts)\n",
    "    keywords = [word[0] for word in texts.most_common(20)]\n",
    "\n",
    "    return keywords"
   ]
  }
 ],
 "metadata": {
  "kernelspec": {
   "argv": [
    "python",
    "-m",
    "ipykernel_launcher",
    "-f",
    "{connection_file}"
   ],
   "display_name": "Python 3 (ipykernel)",
   "env": null,
   "interrupt_mode": "signal",
   "language": "python",
   "metadata": {
    "debugger": true
   },
   "name": "python3"
  },
  "name": "Untitled.ipynb"
 },
 "nbformat": 4,
 "nbformat_minor": 5
}
